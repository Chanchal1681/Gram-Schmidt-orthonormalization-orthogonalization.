{
 "cells": [
  {
   "cell_type": "markdown",
   "id": "312a5c97",
   "metadata": {},
   "source": [
    "## Using Gram-Schmidt Orthogonalization process,construct an ortho-normal basis from the following basis"
   ]
  },
  {
   "cell_type": "markdown",
   "id": "78169bbc",
   "metadata": {},
   "source": [
    "## Gram smith Orthogonalizationis a method for orthogonalizing set of vectors in an inner product space."
   ]
  },
  {
   "cell_type": "code",
   "execution_count": 6,
   "id": "f5d6f743",
   "metadata": {},
   "outputs": [],
   "source": [
    "m=np.array([[2,-1,1],[4,2,1],[-1,3,2]])\n",
    "m\n",
    "x1=[[2,-1,1]]\n",
    "x2=[[4,2,1]]\n",
    "x3=[[-1,3,2]]"
   ]
  },
  {
   "cell_type": "markdown",
   "id": "c7ff184e",
   "metadata": {},
   "source": [
    "## For finding norm each of vector "
   ]
  },
  {
   "cell_type": "code",
   "execution_count": 16,
   "id": "9c2a7f72",
   "metadata": {},
   "outputs": [
    {
     "data": {
      "text/plain": [
       "array([[ 0.81649658, -0.40824829,  0.40824829]])"
      ]
     },
     "execution_count": 16,
     "metadata": {},
     "output_type": "execute_result"
    }
   ],
   "source": [
    "\n",
    "z1=x1/np.linalg.norm(x1)\n",
    "z1"
   ]
  },
  {
   "cell_type": "code",
   "execution_count": 15,
   "id": "f9bac366",
   "metadata": {},
   "outputs": [
    {
     "data": {
      "text/plain": [
       "array([[0.87287156, 0.43643578, 0.21821789]])"
      ]
     },
     "execution_count": 15,
     "metadata": {},
     "output_type": "execute_result"
    }
   ],
   "source": [
    "z2=x2/np.linalg.norm(x2)\n",
    "z2"
   ]
  },
  {
   "cell_type": "code",
   "execution_count": 17,
   "id": "7c3cb533",
   "metadata": {},
   "outputs": [
    {
     "data": {
      "text/plain": [
       "array([[-0.26726124,  0.80178373,  0.53452248]])"
      ]
     },
     "execution_count": 17,
     "metadata": {},
     "output_type": "execute_result"
    }
   ],
   "source": [
    "z3=x3/np.linalg.norm(x3)\n",
    "z3"
   ]
  },
  {
   "cell_type": "markdown",
   "id": "a43230e4",
   "metadata": {},
   "source": [
    "## For GSO"
   ]
  },
  {
   "cell_type": "code",
   "execution_count": 22,
   "id": "fb6b93d9",
   "metadata": {},
   "outputs": [
    {
     "data": {
      "text/plain": [
       "array([[ 0.81649658, -0.40824829,  0.40824829]])"
      ]
     },
     "execution_count": 22,
     "metadata": {},
     "output_type": "execute_result"
    }
   ],
   "source": [
    "y1=z1\n",
    "z1"
   ]
  },
  {
   "cell_type": "code",
   "execution_count": 31,
   "id": "0091e025",
   "metadata": {},
   "outputs": [
    {
     "data": {
      "text/plain": [
       "array([[ 1.66666667,  3.16666667, -0.16666667]])"
      ]
     },
     "execution_count": 31,
     "metadata": {},
     "output_type": "execute_result"
    }
   ],
   "source": [
    "y2=x2-np.inner(x2,z1)/np.inner(z1,z1)*z1\n",
    "y2"
   ]
  },
  {
   "cell_type": "code",
   "execution_count": 41,
   "id": "62035495",
   "metadata": {},
   "outputs": [
    {
     "data": {
      "text/plain": [
       "array([[-0.]])"
      ]
     },
     "execution_count": 41,
     "metadata": {},
     "output_type": "execute_result"
    }
   ],
   "source": [
    "## Verification\n",
    "\n",
    "w1=np.inner(z1,y2)\n",
    "w1\n",
    "np.round(w1,2)"
   ]
  },
  {
   "cell_type": "code",
   "execution_count": 42,
   "id": "b2a0cf81",
   "metadata": {},
   "outputs": [
    {
     "data": {
      "text/plain": [
       "array([[-0.97402597,  0.64935065,  2.5974026 ]])"
      ]
     },
     "execution_count": 42,
     "metadata": {},
     "output_type": "execute_result"
    }
   ],
   "source": [
    "y3=x3-np.inner(x3,y2)/np.inner(y2,y2)*y2-np.inner(x3,y1)/np.inner(y1,y1)*y1\n",
    "y3"
   ]
  },
  {
   "cell_type": "code",
   "execution_count": 45,
   "id": "1d45e821",
   "metadata": {},
   "outputs": [
    {
     "data": {
      "text/plain": [
       "array([[0.]])"
      ]
     },
     "execution_count": 45,
     "metadata": {},
     "output_type": "execute_result"
    }
   ],
   "source": [
    "## For verification\n",
    "\n",
    "w2=np.inner(y1,y3)\n",
    "w2\n",
    "np.round(w2,2)"
   ]
  },
  {
   "cell_type": "code",
   "execution_count": 44,
   "id": "94657fec",
   "metadata": {},
   "outputs": [
    {
     "data": {
      "text/plain": [
       "array([[0.]])"
      ]
     },
     "execution_count": 44,
     "metadata": {},
     "output_type": "execute_result"
    }
   ],
   "source": [
    "np.round(w2,2)"
   ]
  },
  {
   "cell_type": "code",
   "execution_count": 47,
   "id": "a76c17a9",
   "metadata": {},
   "outputs": [
    {
     "data": {
      "text/plain": [
       "array([[0.]])"
      ]
     },
     "execution_count": 47,
     "metadata": {},
     "output_type": "execute_result"
    }
   ],
   "source": [
    "w3=np.inner(y2,y3)\n",
    "w3\n",
    "np.round(w3,2)"
   ]
  },
  {
   "cell_type": "code",
   "execution_count": null,
   "id": "34c1a30c",
   "metadata": {},
   "outputs": [],
   "source": []
  }
 ],
 "metadata": {
  "kernelspec": {
   "display_name": "Python 3",
   "language": "python",
   "name": "python3"
  },
  "language_info": {
   "codemirror_mode": {
    "name": "ipython",
    "version": 3
   },
   "file_extension": ".py",
   "mimetype": "text/x-python",
   "name": "python",
   "nbconvert_exporter": "python",
   "pygments_lexer": "ipython3",
   "version": "3.9.5"
  }
 },
 "nbformat": 4,
 "nbformat_minor": 5
}
